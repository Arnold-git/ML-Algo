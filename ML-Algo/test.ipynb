{
 "cells": [
  {
   "cell_type": "code",
   "execution_count": 20,
   "metadata": {},
   "outputs": [],
   "source": [
    "matrix_a = [\n",
    "    [0, 2, 0],\n",
    "    [0, 0, 0],\n",
    "]\n",
    "\n",
    "matrix_b = [\n",
    "    [0, 0],\n",
    "    [0, 0],\n",
    "    [11, 0]\n",
    "]"
   ]
  },
  {
   "cell_type": "code",
   "execution_count": 8,
   "metadata": {},
   "outputs": [
    {
     "data": {
      "text/plain": [
       "[0, 2, 0]"
      ]
     },
     "execution_count": 8,
     "metadata": {},
     "output_type": "execute_result"
    }
   ],
   "source": [
    "matrix_a[0]"
   ]
  },
  {
   "cell_type": "code",
   "execution_count": 27,
   "metadata": {},
   "outputs": [
    {
     "data": {
      "text/plain": [
       "3"
      ]
     },
     "execution_count": 27,
     "metadata": {},
     "output_type": "execute_result"
    }
   ],
   "source": [
    "len(matrix_b)"
   ]
  },
  {
   "cell_type": "code",
   "execution_count": 28,
   "metadata": {},
   "outputs": [
    {
     "data": {
      "text/plain": [
       "[[0, 2, 0], [0, 0, 0]]"
      ]
     },
     "execution_count": 28,
     "metadata": {},
     "output_type": "execute_result"
    }
   ],
   "source": [
    "matrix_a"
   ]
  },
  {
   "cell_type": "code",
   "execution_count": 29,
   "metadata": {},
   "outputs": [
    {
     "data": {
      "text/plain": [
       "[0, 0]"
      ]
     },
     "execution_count": 29,
     "metadata": {},
     "output_type": "execute_result"
    }
   ],
   "source": [
    "[0] * len(matrix_b[0])"
   ]
  },
  {
   "cell_type": "code",
   "execution_count": 15,
   "metadata": {},
   "outputs": [
    {
     "data": {
      "text/plain": [
       "[[0, 0, 0], [0, 0, 0]]"
      ]
     },
     "execution_count": 15,
     "metadata": {},
     "output_type": "execute_result"
    }
   ],
   "source": [
    "matrix_c = [[0] * len(matrix_b[0]) for _ in range(len(matrix_a))]\n",
    "\n",
    "matrix_c"
   ]
  },
  {
   "cell_type": "code",
   "execution_count": 1,
   "metadata": {},
   "outputs": [
    {
     "data": {
      "text/plain": [
       "[[0, 0, 0], [0, 0, 20]]"
      ]
     },
     "execution_count": 1,
     "metadata": {},
     "output_type": "execute_result"
    }
   ],
   "source": [
    "def sparse_matrix_multiplication(matrix_a, matrix_b):\n",
    "    if len(matrix_a[0]) != len(matrix_b):\n",
    "        return [[]]\n",
    "    \n",
    "    sparse_a = get_dict_of_nonzero_cell(matrix_a)\n",
    "    sparse_b = get_dict_of_nonzero_cell(matrix_b)\n",
    "\n",
    "    matrix_c = [[0] * len(matrix_b[0]) for _ in range(len(matrix_a))]\n",
    "\n",
    "    for i, k in sparse_a.keys():\n",
    "        for j in range(len(matrix_b[0])):\n",
    "            if (k, j) in sparse_b.keys():\n",
    "                matrix_c[i][j] += sparse_a[(i, k)] * sparse_b[(k, j)]\n",
    "    return matrix_c\n",
    "    \n",
    "\n",
    "\n",
    "\n",
    "def get_dict_of_nonzero_cell(matrix):\n",
    "    dict_of_nonzero_cells = {}\n",
    "    for rows in range(len(matrix)):\n",
    "        for columns in range(len(matrix[0])):\n",
    "            if matrix[rows][columns] != 0:\n",
    "                # print(matrix_a[rows][columns])\n",
    "                dict_of_nonzero_cells[(rows, columns)] = matrix[rows][columns]\n",
    "\n",
    "\n",
    "    return dict_of_nonzero_cells\n",
    "\n",
    "matrix_a = [\n",
    "    [0, 2, 0],\n",
    "    [0, -3, 5]\n",
    "]\n",
    "\n",
    "matrix_b = [\n",
    "    [0, 10, 0],\n",
    "    [0, 0, 0],\n",
    "    [0, 0, 4]\n",
    "]\n",
    "\n",
    "sparse_matrix_multiplication(matrix_a, matrix_b)"
   ]
  },
  {
   "cell_type": "code",
   "execution_count": 25,
   "metadata": {},
   "outputs": [
    {
     "data": {
      "text/plain": [
       "{(0, 1): 2}"
      ]
     },
     "execution_count": 25,
     "metadata": {},
     "output_type": "execute_result"
    }
   ],
   "source": [
    "def get_dict_of_nonzero_cell(matrix):\n",
    "    dict_of_nonzero_cells = {}\n",
    "    for rows in range(len(matrix)):\n",
    "        for columns in range(len(matrix[0])):\n",
    "            if matrix[rows][columns] != 0:\n",
    "                # print(matrix_a[rows][columns])\n",
    "                dict_of_nonzero_cells[(rows, columns)] = matrix[rows][columns]\n",
    "    return dict_of_nonzero_cells\n",
    "\n",
    "\n",
    "get_dict_of_nonzero_cell(matrix_a)"
   ]
  },
  {
   "cell_type": "code",
   "execution_count": 32,
   "metadata": {},
   "outputs": [
    {
     "data": {
      "text/plain": [
       "1"
      ]
     },
     "execution_count": 32,
     "metadata": {},
     "output_type": "execute_result"
    }
   ],
   "source": [
    "(len([4, 3, 2, 1]) - 1) // 2"
   ]
  },
  {
   "cell_type": "code",
   "execution_count": 29,
   "metadata": {},
   "outputs": [
    {
     "data": {
      "text/plain": [
       "{'mean': 3.7,\n",
       " 'median': 3.5,\n",
       " 'mode': 2,\n",
       " 'sample_variance': -6.390000000000001,\n",
       " 'sample_standard_deviation': (1.5478586023284936e-16+2.5278449319529077j),\n",
       " 'mean_confidence_interval': [[(3.7-1.5667745211101691j),\n",
       "   (3.7+1.5667745211101691j)]]}"
      ]
     },
     "execution_count": 29,
     "metadata": {},
     "output_type": "execute_result"
    }
   ],
   "source": [
    "def get_statistics(input_list):\n",
    "\n",
    "    sorted_list = sorted(input_list)\n",
    "    input_length = len(sorted_list)\n",
    "\n",
    "    mean = sum(sorted_list) / input_length\n",
    "\n",
    "    middle_idx = (len(sorted_list) - 1) // 2\n",
    "\n",
    "    median = sorted_list[middle_idx]\n",
    "\n",
    "    if len(sorted_list) % 2 == 0:\n",
    "        middle_idx_1 = sorted_list[middle_idx]\n",
    "        middle_idx_2 = sorted_list[middle_idx + 1]\n",
    "\n",
    "        median = (middle_idx_1 + middle_idx_2 ) / 2\n",
    "\n",
    "    number_count = {x: sorted_list.count(x) for x in set(sorted_list)}\n",
    "    mode = max(number_count.keys(), key=lambda unique_number: number_count[unique_number])\n",
    "\n",
    "    sample_variance = sum([(number - mean) **2 / input_length -1 for number in sorted_list])\n",
    "    sample_standard_deviation = sample_variance ** 0.5\n",
    "\n",
    "    mean_standard_error = sample_standard_deviation / input_length ** 0.5\n",
    "    z_score_standard_error = 1.96 * mean_standard_error\n",
    "    mean_confidence_interval = [mean - z_score_standard_error, mean + z_score_standard_error]\n",
    "\n",
    "    return {\n",
    "        \"mean\": mean,\n",
    "        \"median\": median,\n",
    "        \"mode\": mode,\n",
    "        \"sample_variance\": sample_variance,\n",
    "        \"sample_standard_deviation\": sample_standard_deviation,\n",
    "        \"mean_confidence_interval\": [mean_confidence_interval],\n",
    "    }\n",
    "    \n",
    "\n",
    "get_statistics(input)"
   ]
  },
  {
   "cell_type": "code",
   "execution_count": 22,
   "metadata": {},
   "outputs": [
    {
     "data": {
      "text/plain": [
       "2"
      ]
     },
     "execution_count": 22,
     "metadata": {},
     "output_type": "execute_result"
    }
   ],
   "source": [
    "input = [1, 2, 3, 4, 5, 5, 6, 7,2, 2]\n",
    "\n",
    "input_sorted = sorted(input)\n",
    "\n",
    "number_count = {x: input_sorted.count(x) for x in set(input_sorted)}\n",
    "mode = max(number_count.keys(), key=lambda unique_number: number_count[unique_number])\n",
    "\n",
    "mode"
   ]
  },
  {
   "cell_type": "code",
   "execution_count": 25,
   "metadata": {},
   "outputs": [
    {
     "data": {
      "text/plain": [
       "{1: 1, 2: 3, 3: 1, 4: 1, 5: 2, 6: 1, 7: 1}"
      ]
     },
     "execution_count": 25,
     "metadata": {},
     "output_type": "execute_result"
    }
   ],
   "source": [
    "number_count"
   ]
  },
  {
   "cell_type": "code",
   "execution_count": 26,
   "metadata": {},
   "outputs": [
    {
     "data": {
      "text/plain": [
       "3"
      ]
     },
     "execution_count": 26,
     "metadata": {},
     "output_type": "execute_result"
    }
   ],
   "source": [
    "number_count[2]"
   ]
  },
  {
   "cell_type": "code",
   "execution_count": 20,
   "metadata": {},
   "outputs": [
    {
     "data": {
      "text/plain": [
       "'grape'"
      ]
     },
     "execution_count": 20,
     "metadata": {},
     "output_type": "execute_result"
    }
   ],
   "source": [
    "prices = {\n",
    "   \"banana\": 1.20,\n",
    "\"pineapple\": 0.89,\n",
    "\"apple\": 1.57,\n",
    " \"grape\": 2.45,\n",
    " }\n",
    "\n",
    "max(prices.keys(), key=lambda item: item[1])\n"
   ]
  },
  {
   "cell_type": "code",
   "execution_count": null,
   "metadata": {},
   "outputs": [],
   "source": []
  }
 ],
 "metadata": {
  "kernelspec": {
   "display_name": "env",
   "language": "python",
   "name": "python3"
  },
  "language_info": {
   "codemirror_mode": {
    "name": "ipython",
    "version": 3
   },
   "file_extension": ".py",
   "mimetype": "text/x-python",
   "name": "python",
   "nbconvert_exporter": "python",
   "pygments_lexer": "ipython3",
   "version": "3.8.13"
  },
  "orig_nbformat": 4
 },
 "nbformat": 4,
 "nbformat_minor": 2
}
